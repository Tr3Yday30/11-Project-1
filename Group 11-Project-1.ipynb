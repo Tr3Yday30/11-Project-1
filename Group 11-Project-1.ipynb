{
 "cells": [
  {
   "cell_type": "code",
   "execution_count": null,
   "id": "538ec322",
   "metadata": {},
   "outputs": [],
   "source": [
    "# To create a common and static dataset we generated a sample then converted the sample DataFrame to a csv file.\n",
    "# The original dataset from Kaggle is called \"true_car_listings.csv\". \n",
    "# We imported the data into a DataFrame:\n",
    "\n",
    "#file = \"true_car_listings.csv\"\n",
    "#used_car_df = pd.read_csv(file)\n",
    "\n",
    "# Then took a sample of 20,000 records to use going forward:\n",
    "\n",
    "#sample_df = used_car_df.sample(20000)\n",
    "\n",
    "# Some of the records needed their 'State' data to be capitalized:\n",
    "\n",
    "#sample_df['State'].str.upper()\n",
    "\n",
    "# The common and static dataset to be used is 'output_file.csv'\n",
    "#sample_df.to_csv('output_file.csv') "
   ]
  },
  {
   "cell_type": "code",
   "execution_count": 1,
   "id": "10ba9e20",
   "metadata": {},
   "outputs": [],
   "source": [
    "import pandas as pd\n",
    "import matplotlib.pyplot as plt\n",
    "import numpy as np\n",
    "import matplotlib.pyplot as plt; plt.rcdefaults()"
   ]
  },
  {
   "cell_type": "code",
   "execution_count": 2,
   "id": "a06b81cd",
   "metadata": {},
   "outputs": [],
   "source": [
    "file = \"output_file.csv\""
   ]
  },
  {
   "cell_type": "code",
   "execution_count": 3,
   "id": "bbef3c12",
   "metadata": {},
   "outputs": [],
   "source": [
    "file_df = pd.read_csv(file)"
   ]
  },
  {
   "cell_type": "code",
   "execution_count": 4,
   "id": "9a6f4dad",
   "metadata": {},
   "outputs": [
    {
     "data": {
      "text/html": [
       "<div>\n",
       "<style scoped>\n",
       "    .dataframe tbody tr th:only-of-type {\n",
       "        vertical-align: middle;\n",
       "    }\n",
       "\n",
       "    .dataframe tbody tr th {\n",
       "        vertical-align: top;\n",
       "    }\n",
       "\n",
       "    .dataframe thead th {\n",
       "        text-align: right;\n",
       "    }\n",
       "</style>\n",
       "<table border=\"1\" class=\"dataframe\">\n",
       "  <thead>\n",
       "    <tr style=\"text-align: right;\">\n",
       "      <th></th>\n",
       "      <th>Unnamed: 0</th>\n",
       "      <th>index</th>\n",
       "      <th>Price</th>\n",
       "      <th>Year</th>\n",
       "      <th>Mileage</th>\n",
       "      <th>City</th>\n",
       "      <th>State</th>\n",
       "      <th>Vin</th>\n",
       "      <th>Make</th>\n",
       "      <th>Model</th>\n",
       "    </tr>\n",
       "  </thead>\n",
       "  <tbody>\n",
       "    <tr>\n",
       "      <th>0</th>\n",
       "      <td>0</td>\n",
       "      <td>508294</td>\n",
       "      <td>33998</td>\n",
       "      <td>2015</td>\n",
       "      <td>22211</td>\n",
       "      <td>Westborough</td>\n",
       "      <td>MA</td>\n",
       "      <td>1C4RJFCG0FC846328</td>\n",
       "      <td>Jeep</td>\n",
       "      <td>Grand</td>\n",
       "    </tr>\n",
       "    <tr>\n",
       "      <th>1</th>\n",
       "      <td>1</td>\n",
       "      <td>58846</td>\n",
       "      <td>16995</td>\n",
       "      <td>2014</td>\n",
       "      <td>47481</td>\n",
       "      <td>Omaha</td>\n",
       "      <td>NE</td>\n",
       "      <td>KL4CJGSB7EB592147</td>\n",
       "      <td>Buick</td>\n",
       "      <td>EncoreLeather</td>\n",
       "    </tr>\n",
       "    <tr>\n",
       "      <th>2</th>\n",
       "      <td>2</td>\n",
       "      <td>525132</td>\n",
       "      <td>17477</td>\n",
       "      <td>2017</td>\n",
       "      <td>20495</td>\n",
       "      <td>Vero Beach</td>\n",
       "      <td>FL</td>\n",
       "      <td>5XXGT4L36HG132127</td>\n",
       "      <td>Kia</td>\n",
       "      <td>OptimaLX</td>\n",
       "    </tr>\n",
       "    <tr>\n",
       "      <th>3</th>\n",
       "      <td>3</td>\n",
       "      <td>24652</td>\n",
       "      <td>11974</td>\n",
       "      <td>2011</td>\n",
       "      <td>72945</td>\n",
       "      <td>Corona</td>\n",
       "      <td>CA</td>\n",
       "      <td>WBAPH5G57BNM82894</td>\n",
       "      <td>BMW</td>\n",
       "      <td>3</td>\n",
       "    </tr>\n",
       "    <tr>\n",
       "      <th>4</th>\n",
       "      <td>4</td>\n",
       "      <td>816083</td>\n",
       "      <td>32856</td>\n",
       "      <td>2016</td>\n",
       "      <td>9900</td>\n",
       "      <td>Baxley</td>\n",
       "      <td>GA</td>\n",
       "      <td>3TMAZ5CNXGM016146</td>\n",
       "      <td>Toyota</td>\n",
       "      <td>Tacoma2WD</td>\n",
       "    </tr>\n",
       "    <tr>\n",
       "      <th>...</th>\n",
       "      <td>...</td>\n",
       "      <td>...</td>\n",
       "      <td>...</td>\n",
       "      <td>...</td>\n",
       "      <td>...</td>\n",
       "      <td>...</td>\n",
       "      <td>...</td>\n",
       "      <td>...</td>\n",
       "      <td>...</td>\n",
       "      <td>...</td>\n",
       "    </tr>\n",
       "    <tr>\n",
       "      <th>19995</th>\n",
       "      <td>19995</td>\n",
       "      <td>209777</td>\n",
       "      <td>27490</td>\n",
       "      <td>2017</td>\n",
       "      <td>11300</td>\n",
       "      <td>Winterville</td>\n",
       "      <td>NC</td>\n",
       "      <td>2C3CDXCT5HH581233</td>\n",
       "      <td>Dodge</td>\n",
       "      <td>ChargerR/T</td>\n",
       "    </tr>\n",
       "    <tr>\n",
       "      <th>19996</th>\n",
       "      <td>19996</td>\n",
       "      <td>762950</td>\n",
       "      <td>9995</td>\n",
       "      <td>2008</td>\n",
       "      <td>52677</td>\n",
       "      <td>Charleston</td>\n",
       "      <td>SC</td>\n",
       "      <td>4T1BE46K18U254374</td>\n",
       "      <td>Toyota</td>\n",
       "      <td>Camry4dr</td>\n",
       "    </tr>\n",
       "    <tr>\n",
       "      <th>19997</th>\n",
       "      <td>19997</td>\n",
       "      <td>639429</td>\n",
       "      <td>11200</td>\n",
       "      <td>2014</td>\n",
       "      <td>58741</td>\n",
       "      <td>Chesapeake</td>\n",
       "      <td>VA</td>\n",
       "      <td>1N4AL3AP7EC323143</td>\n",
       "      <td>Nissan</td>\n",
       "      <td>Altima2.5</td>\n",
       "    </tr>\n",
       "    <tr>\n",
       "      <th>19998</th>\n",
       "      <td>19998</td>\n",
       "      <td>620854</td>\n",
       "      <td>62777</td>\n",
       "      <td>2015</td>\n",
       "      <td>39781</td>\n",
       "      <td>National City</td>\n",
       "      <td>CA</td>\n",
       "      <td>WDDUG8CB1FA114865</td>\n",
       "      <td>Mercedes-Benz</td>\n",
       "      <td>S-ClassS550</td>\n",
       "    </tr>\n",
       "    <tr>\n",
       "      <th>19999</th>\n",
       "      <td>19999</td>\n",
       "      <td>434551</td>\n",
       "      <td>12998</td>\n",
       "      <td>2016</td>\n",
       "      <td>47050</td>\n",
       "      <td>Richmond</td>\n",
       "      <td>VA</td>\n",
       "      <td>5NPE24AF0GH385518</td>\n",
       "      <td>Hyundai</td>\n",
       "      <td>Sonata2.4L</td>\n",
       "    </tr>\n",
       "  </tbody>\n",
       "</table>\n",
       "<p>20000 rows × 10 columns</p>\n",
       "</div>"
      ],
      "text/plain": [
       "       Unnamed: 0   index  Price  Year  Mileage           City State  \\\n",
       "0               0  508294  33998  2015    22211    Westborough    MA   \n",
       "1               1   58846  16995  2014    47481          Omaha    NE   \n",
       "2               2  525132  17477  2017    20495     Vero Beach    FL   \n",
       "3               3   24652  11974  2011    72945         Corona    CA   \n",
       "4               4  816083  32856  2016     9900         Baxley    GA   \n",
       "...           ...     ...    ...   ...      ...            ...   ...   \n",
       "19995       19995  209777  27490  2017    11300    Winterville    NC   \n",
       "19996       19996  762950   9995  2008    52677     Charleston    SC   \n",
       "19997       19997  639429  11200  2014    58741     Chesapeake    VA   \n",
       "19998       19998  620854  62777  2015    39781  National City    CA   \n",
       "19999       19999  434551  12998  2016    47050       Richmond    VA   \n",
       "\n",
       "                     Vin           Make          Model  \n",
       "0      1C4RJFCG0FC846328           Jeep          Grand  \n",
       "1      KL4CJGSB7EB592147          Buick  EncoreLeather  \n",
       "2      5XXGT4L36HG132127            Kia       OptimaLX  \n",
       "3      WBAPH5G57BNM82894            BMW              3  \n",
       "4      3TMAZ5CNXGM016146         Toyota      Tacoma2WD  \n",
       "...                  ...            ...            ...  \n",
       "19995  2C3CDXCT5HH581233          Dodge     ChargerR/T  \n",
       "19996  4T1BE46K18U254374         Toyota       Camry4dr  \n",
       "19997  1N4AL3AP7EC323143         Nissan      Altima2.5  \n",
       "19998  WDDUG8CB1FA114865  Mercedes-Benz    S-ClassS550  \n",
       "19999  5NPE24AF0GH385518        Hyundai     Sonata2.4L  \n",
       "\n",
       "[20000 rows x 10 columns]"
      ]
     },
     "execution_count": 4,
     "metadata": {},
     "output_type": "execute_result"
    }
   ],
   "source": [
    "file_df"
   ]
  },
  {
   "cell_type": "code",
   "execution_count": 5,
   "id": "c8710e87",
   "metadata": {},
   "outputs": [
    {
     "data": {
      "text/html": [
       "<div>\n",
       "<style scoped>\n",
       "    .dataframe tbody tr th:only-of-type {\n",
       "        vertical-align: middle;\n",
       "    }\n",
       "\n",
       "    .dataframe tbody tr th {\n",
       "        vertical-align: top;\n",
       "    }\n",
       "\n",
       "    .dataframe thead th {\n",
       "        text-align: right;\n",
       "    }\n",
       "</style>\n",
       "<table border=\"1\" class=\"dataframe\">\n",
       "  <thead>\n",
       "    <tr style=\"text-align: right;\">\n",
       "      <th></th>\n",
       "      <th>Price</th>\n",
       "      <th>Year</th>\n",
       "      <th>Mileage</th>\n",
       "      <th>City</th>\n",
       "      <th>State</th>\n",
       "      <th>Make</th>\n",
       "      <th>Model</th>\n",
       "    </tr>\n",
       "  </thead>\n",
       "  <tbody>\n",
       "    <tr>\n",
       "      <th>0</th>\n",
       "      <td>33998</td>\n",
       "      <td>2015</td>\n",
       "      <td>22211</td>\n",
       "      <td>Westborough</td>\n",
       "      <td>MA</td>\n",
       "      <td>Jeep</td>\n",
       "      <td>Grand</td>\n",
       "    </tr>\n",
       "    <tr>\n",
       "      <th>1</th>\n",
       "      <td>16995</td>\n",
       "      <td>2014</td>\n",
       "      <td>47481</td>\n",
       "      <td>Omaha</td>\n",
       "      <td>NE</td>\n",
       "      <td>Buick</td>\n",
       "      <td>EncoreLeather</td>\n",
       "    </tr>\n",
       "    <tr>\n",
       "      <th>2</th>\n",
       "      <td>17477</td>\n",
       "      <td>2017</td>\n",
       "      <td>20495</td>\n",
       "      <td>Vero Beach</td>\n",
       "      <td>FL</td>\n",
       "      <td>Kia</td>\n",
       "      <td>OptimaLX</td>\n",
       "    </tr>\n",
       "    <tr>\n",
       "      <th>3</th>\n",
       "      <td>11974</td>\n",
       "      <td>2011</td>\n",
       "      <td>72945</td>\n",
       "      <td>Corona</td>\n",
       "      <td>CA</td>\n",
       "      <td>BMW</td>\n",
       "      <td>3</td>\n",
       "    </tr>\n",
       "    <tr>\n",
       "      <th>4</th>\n",
       "      <td>32856</td>\n",
       "      <td>2016</td>\n",
       "      <td>9900</td>\n",
       "      <td>Baxley</td>\n",
       "      <td>GA</td>\n",
       "      <td>Toyota</td>\n",
       "      <td>Tacoma2WD</td>\n",
       "    </tr>\n",
       "    <tr>\n",
       "      <th>...</th>\n",
       "      <td>...</td>\n",
       "      <td>...</td>\n",
       "      <td>...</td>\n",
       "      <td>...</td>\n",
       "      <td>...</td>\n",
       "      <td>...</td>\n",
       "      <td>...</td>\n",
       "    </tr>\n",
       "    <tr>\n",
       "      <th>19995</th>\n",
       "      <td>27490</td>\n",
       "      <td>2017</td>\n",
       "      <td>11300</td>\n",
       "      <td>Winterville</td>\n",
       "      <td>NC</td>\n",
       "      <td>Dodge</td>\n",
       "      <td>ChargerR/T</td>\n",
       "    </tr>\n",
       "    <tr>\n",
       "      <th>19996</th>\n",
       "      <td>9995</td>\n",
       "      <td>2008</td>\n",
       "      <td>52677</td>\n",
       "      <td>Charleston</td>\n",
       "      <td>SC</td>\n",
       "      <td>Toyota</td>\n",
       "      <td>Camry4dr</td>\n",
       "    </tr>\n",
       "    <tr>\n",
       "      <th>19997</th>\n",
       "      <td>11200</td>\n",
       "      <td>2014</td>\n",
       "      <td>58741</td>\n",
       "      <td>Chesapeake</td>\n",
       "      <td>VA</td>\n",
       "      <td>Nissan</td>\n",
       "      <td>Altima2.5</td>\n",
       "    </tr>\n",
       "    <tr>\n",
       "      <th>19998</th>\n",
       "      <td>62777</td>\n",
       "      <td>2015</td>\n",
       "      <td>39781</td>\n",
       "      <td>National City</td>\n",
       "      <td>CA</td>\n",
       "      <td>Mercedes-Benz</td>\n",
       "      <td>S-ClassS550</td>\n",
       "    </tr>\n",
       "    <tr>\n",
       "      <th>19999</th>\n",
       "      <td>12998</td>\n",
       "      <td>2016</td>\n",
       "      <td>47050</td>\n",
       "      <td>Richmond</td>\n",
       "      <td>VA</td>\n",
       "      <td>Hyundai</td>\n",
       "      <td>Sonata2.4L</td>\n",
       "    </tr>\n",
       "  </tbody>\n",
       "</table>\n",
       "<p>20000 rows × 7 columns</p>\n",
       "</div>"
      ],
      "text/plain": [
       "       Price  Year  Mileage           City State           Make          Model\n",
       "0      33998  2015    22211    Westborough    MA           Jeep          Grand\n",
       "1      16995  2014    47481          Omaha    NE          Buick  EncoreLeather\n",
       "2      17477  2017    20495     Vero Beach    FL            Kia       OptimaLX\n",
       "3      11974  2011    72945         Corona    CA            BMW              3\n",
       "4      32856  2016     9900         Baxley    GA         Toyota      Tacoma2WD\n",
       "...      ...   ...      ...            ...   ...            ...            ...\n",
       "19995  27490  2017    11300    Winterville    NC          Dodge     ChargerR/T\n",
       "19996   9995  2008    52677     Charleston    SC         Toyota       Camry4dr\n",
       "19997  11200  2014    58741     Chesapeake    VA         Nissan      Altima2.5\n",
       "19998  62777  2015    39781  National City    CA  Mercedes-Benz    S-ClassS550\n",
       "19999  12998  2016    47050       Richmond    VA        Hyundai     Sonata2.4L\n",
       "\n",
       "[20000 rows x 7 columns]"
      ]
     },
     "execution_count": 5,
     "metadata": {},
     "output_type": "execute_result"
    }
   ],
   "source": [
    "del file_df['Vin']\n",
    "del file_df['index']\n",
    "del file_df['Unnamed: 0']\n",
    "file_df"
   ]
  },
  {
   "cell_type": "code",
   "execution_count": null,
   "id": "a16dc884",
   "metadata": {
    "scrolled": true
   },
   "outputs": [],
   "source": []
  },
  {
   "cell_type": "code",
   "execution_count": null,
   "id": "b6aed341",
   "metadata": {},
   "outputs": [],
   "source": []
  },
  {
   "cell_type": "code",
   "execution_count": 6,
   "id": "b810185d",
   "metadata": {},
   "outputs": [
    {
     "data": {
      "text/plain": [
       "Houston         293\n",
       "San Antonio     175\n",
       "Orlando         141\n",
       "Miami           131\n",
       "Jacksonville    128\n",
       "Name: City, dtype: int64"
      ]
     },
     "execution_count": 6,
     "metadata": {},
     "output_type": "execute_result"
    }
   ],
   "source": [
    "# Top 5 cities that sold the most cars\n",
    "pd.value_counts(file_df.City).head()"
   ]
  },
  {
   "cell_type": "code",
   "execution_count": 7,
   "id": "580ee490",
   "metadata": {},
   "outputs": [
    {
     "data": {
      "text/plain": [
       "<function matplotlib.pyplot.show(close=None, block=None)>"
      ]
     },
     "execution_count": 7,
     "metadata": {},
     "output_type": "execute_result"
    },
    {
     "data": {
      "image/png": "[encoded data removed]",
      "text/plain": [
       "<Figure size 640x480 with 1 Axes>"
      ]
     },
     "metadata": {},
     "output_type": "display_data"
    }
   ],
   "source": [
    "# Top 5 cities that sold the most cars\n",
    "objects = ('Houston','San Antonio','Orlando','Miami','Jacksonville')\n",
    "y_pos = np.arange(len(objects))\n",
    "performance = [293,175,141,131,128]\n",
    "\n",
    "plt.barh(y_pos, performance, align='center', alpha=0.5)\n",
    "plt.yticks(y_pos, objects)\n",
    "plt.xlabel('Cars sold')\n",
    "plt.title('Top 5 cities by cars sold')\n",
    "\n",
    "plt.show"
   ]
  },
  {
   "cell_type": "code",
   "execution_count": 9,
   "id": "f49c556e",
   "metadata": {},
   "outputs": [
    {
     "data": {
      "text/plain": [
       " TX    2144\n",
       " CA    1967\n",
       " FL    1755\n",
       " IL     929\n",
       " GA     905\n",
       "Name: State, dtype: int64"
      ]
     },
     "execution_count": 9,
     "metadata": {},
     "output_type": "execute_result"
    }
   ],
   "source": [
    "# State that had the most cars sold\n",
    "pd.value_counts(file_df.State).head()"
   ]
  },
  {
   "cell_type": "code",
   "execution_count": 10,
   "id": "6fc51d81",
   "metadata": {},
   "outputs": [
    {
     "data": {
      "text/plain": [
       "<function matplotlib.pyplot.show(close=None, block=None)>"
      ]
     },
     "execution_count": 10,
     "metadata": {},
     "output_type": "execute_result"
    },
    {
     "data": {
      "image/png": "[encoded data removed]",
      "text/plain": [
       "<Figure size 640x480 with 1 Axes>"
      ]
     },
     "metadata": {},
     "output_type": "display_data"
    }
   ],
   "source": [
    "# State that had the most cars sold\n",
    "objects = ('TX', 'CA', 'FL', 'IL', 'GA')\n",
    "y_pos = np.arange(len(objects))\n",
    "performance = (2144, 1967, 1755, 929, 905)\n",
    "\n",
    "plt.barh(y_pos, performance, align='center', alpha=0.5)\n",
    "plt.yticks(y_pos, objects)\n",
    "plt.xlabel('Cars Sold')\n",
    "plt.title('Top 5 States by cars sold')\n",
    "\n",
    "plt.show"
   ]
  },
  {
   "cell_type": "code",
   "execution_count": 11,
   "id": "c0f97e47",
   "metadata": {},
   "outputs": [
    {
     "data": {
      "text/plain": [
       "Silverado    626\n",
       "Grand        396\n",
       "F-1504WD     364\n",
       "Name: Model, dtype: int64"
      ]
     },
     "execution_count": 11,
     "metadata": {},
     "output_type": "execute_result"
    }
   ],
   "source": [
    "# Top 3 selling models\n",
    "pd.value_counts(file_df.Model).head(3)"
   ]
  },
  {
   "cell_type": "code",
   "execution_count": 18,
   "id": "b8f273f5",
   "metadata": {},
   "outputs": [
    {
     "data": {
      "text/plain": [
       "<function matplotlib.pyplot.show(close=None, block=None)>"
      ]
     },
     "execution_count": 18,
     "metadata": {},
     "output_type": "execute_result"
    },
    {
     "data": {
      "image/png": "[encoded data removed]",
      "text/plain": [
       "<Figure size 640x480 with 1 Axes>"
      ]
     },
     "metadata": {},
     "output_type": "display_data"
    }
   ],
   "source": [
    "# Top 3 selling models\n",
    "objects = ('Silverado', 'Grand Cherokee', 'F-1504WD')\n",
    "y_pos = np.arange(len(objects))\n",
    "performance = (626, 396, 364)\n",
    "\n",
    "plt.barh(y_pos, performance, align='center', alpha=0.5)\n",
    "plt.yticks(y_pos, objects)\n",
    "plt.xlabel('Cars Sold')\n",
    "plt.title('Top 3 selling models')\n",
    "\n",
    "plt.show"
   ]
  },
  {
   "cell_type": "code",
   "execution_count": 20,
   "id": "b288a544",
   "metadata": {},
   "outputs": [
    {
     "data": {
      "text/plain": [
       "Silverado    626\n",
       "Grand        396\n",
       "F-1504WD     364\n",
       "Accord       360\n",
       "Altima2.5    269\n",
       "Name: Model, dtype: int64"
      ]
     },
     "execution_count": 20,
     "metadata": {},
     "output_type": "execute_result"
    }
   ],
   "source": [
    "## Models with the highest mileage\n",
    "pd.value_counts(file_df.Model).head()"
   ]
  },
  {
   "cell_type": "code",
   "execution_count": 21,
   "id": "5e1ed3f4",
   "metadata": {},
   "outputs": [
    {
     "data": {
      "text/html": [
       "<div>\n",
       "<style scoped>\n",
       "    .dataframe tbody tr th:only-of-type {\n",
       "        vertical-align: middle;\n",
       "    }\n",
       "\n",
       "    .dataframe tbody tr th {\n",
       "        vertical-align: top;\n",
       "    }\n",
       "\n",
       "    .dataframe thead th {\n",
       "        text-align: right;\n",
       "    }\n",
       "</style>\n",
       "<table border=\"1\" class=\"dataframe\">\n",
       "  <thead>\n",
       "    <tr style=\"text-align: right;\">\n",
       "      <th></th>\n",
       "      <th>Price</th>\n",
       "      <th>Year</th>\n",
       "      <th>Mileage</th>\n",
       "      <th>City</th>\n",
       "      <th>State</th>\n",
       "      <th>Make</th>\n",
       "      <th>Model</th>\n",
       "    </tr>\n",
       "  </thead>\n",
       "  <tbody>\n",
       "    <tr>\n",
       "      <th>0</th>\n",
       "      <td>33998</td>\n",
       "      <td>2015</td>\n",
       "      <td>22211</td>\n",
       "      <td>Westborough</td>\n",
       "      <td>MA</td>\n",
       "      <td>Jeep</td>\n",
       "      <td>Grand</td>\n",
       "    </tr>\n",
       "    <tr>\n",
       "      <th>1</th>\n",
       "      <td>16995</td>\n",
       "      <td>2014</td>\n",
       "      <td>47481</td>\n",
       "      <td>Omaha</td>\n",
       "      <td>NE</td>\n",
       "      <td>Buick</td>\n",
       "      <td>EncoreLeather</td>\n",
       "    </tr>\n",
       "    <tr>\n",
       "      <th>2</th>\n",
       "      <td>17477</td>\n",
       "      <td>2017</td>\n",
       "      <td>20495</td>\n",
       "      <td>Vero Beach</td>\n",
       "      <td>FL</td>\n",
       "      <td>Kia</td>\n",
       "      <td>OptimaLX</td>\n",
       "    </tr>\n",
       "    <tr>\n",
       "      <th>3</th>\n",
       "      <td>11974</td>\n",
       "      <td>2011</td>\n",
       "      <td>72945</td>\n",
       "      <td>Corona</td>\n",
       "      <td>CA</td>\n",
       "      <td>BMW</td>\n",
       "      <td>3</td>\n",
       "    </tr>\n",
       "    <tr>\n",
       "      <th>4</th>\n",
       "      <td>32856</td>\n",
       "      <td>2016</td>\n",
       "      <td>9900</td>\n",
       "      <td>Baxley</td>\n",
       "      <td>GA</td>\n",
       "      <td>Toyota</td>\n",
       "      <td>Tacoma2WD</td>\n",
       "    </tr>\n",
       "  </tbody>\n",
       "</table>\n",
       "</div>"
      ],
      "text/plain": [
       "   Price  Year  Mileage         City State    Make          Model\n",
       "0  33998  2015    22211  Westborough    MA    Jeep          Grand\n",
       "1  16995  2014    47481        Omaha    NE   Buick  EncoreLeather\n",
       "2  17477  2017    20495   Vero Beach    FL     Kia       OptimaLX\n",
       "3  11974  2011    72945       Corona    CA     BMW              3\n",
       "4  32856  2016     9900       Baxley    GA  Toyota      Tacoma2WD"
      ]
     },
     "execution_count": 21,
     "metadata": {},
     "output_type": "execute_result"
    }
   ],
   "source": [
    "## Models with the highest mileage\n",
    "groupby_df = file_df.groupby([\"Model\",\"Mileage\"]).head()\n",
    "groupby_df.head()"
   ]
  },
  {
   "cell_type": "code",
   "execution_count": 22,
   "id": "84977d07",
   "metadata": {},
   "outputs": [
    {
     "data": {
      "text/html": [
       "<div>\n",
       "<style scoped>\n",
       "    .dataframe tbody tr th:only-of-type {\n",
       "        vertical-align: middle;\n",
       "    }\n",
       "\n",
       "    .dataframe tbody tr th {\n",
       "        vertical-align: top;\n",
       "    }\n",
       "\n",
       "    .dataframe thead th {\n",
       "        text-align: right;\n",
       "    }\n",
       "</style>\n",
       "<table border=\"1\" class=\"dataframe\">\n",
       "  <thead>\n",
       "    <tr style=\"text-align: right;\">\n",
       "      <th></th>\n",
       "      <th>Price</th>\n",
       "      <th>Year</th>\n",
       "      <th>Mileage</th>\n",
       "      <th>City</th>\n",
       "      <th>State</th>\n",
       "      <th>Make</th>\n",
       "      <th>Model</th>\n",
       "    </tr>\n",
       "  </thead>\n",
       "  <tbody>\n",
       "    <tr>\n",
       "      <th>0</th>\n",
       "      <td>33998</td>\n",
       "      <td>2015</td>\n",
       "      <td>22211</td>\n",
       "      <td>Westborough</td>\n",
       "      <td>MA</td>\n",
       "      <td>Jeep</td>\n",
       "      <td>Grand</td>\n",
       "    </tr>\n",
       "    <tr>\n",
       "      <th>1</th>\n",
       "      <td>16995</td>\n",
       "      <td>2014</td>\n",
       "      <td>47481</td>\n",
       "      <td>Omaha</td>\n",
       "      <td>NE</td>\n",
       "      <td>Buick</td>\n",
       "      <td>EncoreLeather</td>\n",
       "    </tr>\n",
       "    <tr>\n",
       "      <th>2</th>\n",
       "      <td>17477</td>\n",
       "      <td>2017</td>\n",
       "      <td>20495</td>\n",
       "      <td>Vero Beach</td>\n",
       "      <td>FL</td>\n",
       "      <td>Kia</td>\n",
       "      <td>OptimaLX</td>\n",
       "    </tr>\n",
       "    <tr>\n",
       "      <th>3</th>\n",
       "      <td>11974</td>\n",
       "      <td>2011</td>\n",
       "      <td>72945</td>\n",
       "      <td>Corona</td>\n",
       "      <td>CA</td>\n",
       "      <td>BMW</td>\n",
       "      <td>3</td>\n",
       "    </tr>\n",
       "    <tr>\n",
       "      <th>4</th>\n",
       "      <td>32856</td>\n",
       "      <td>2016</td>\n",
       "      <td>9900</td>\n",
       "      <td>Baxley</td>\n",
       "      <td>GA</td>\n",
       "      <td>Toyota</td>\n",
       "      <td>Tacoma2WD</td>\n",
       "    </tr>\n",
       "    <tr>\n",
       "      <th>...</th>\n",
       "      <td>...</td>\n",
       "      <td>...</td>\n",
       "      <td>...</td>\n",
       "      <td>...</td>\n",
       "      <td>...</td>\n",
       "      <td>...</td>\n",
       "      <td>...</td>\n",
       "    </tr>\n",
       "    <tr>\n",
       "      <th>19995</th>\n",
       "      <td>27490</td>\n",
       "      <td>2017</td>\n",
       "      <td>11300</td>\n",
       "      <td>Winterville</td>\n",
       "      <td>NC</td>\n",
       "      <td>Dodge</td>\n",
       "      <td>ChargerR/T</td>\n",
       "    </tr>\n",
       "    <tr>\n",
       "      <th>19996</th>\n",
       "      <td>9995</td>\n",
       "      <td>2008</td>\n",
       "      <td>52677</td>\n",
       "      <td>Charleston</td>\n",
       "      <td>SC</td>\n",
       "      <td>Toyota</td>\n",
       "      <td>Camry4dr</td>\n",
       "    </tr>\n",
       "    <tr>\n",
       "      <th>19997</th>\n",
       "      <td>11200</td>\n",
       "      <td>2014</td>\n",
       "      <td>58741</td>\n",
       "      <td>Chesapeake</td>\n",
       "      <td>VA</td>\n",
       "      <td>Nissan</td>\n",
       "      <td>Altima2.5</td>\n",
       "    </tr>\n",
       "    <tr>\n",
       "      <th>19998</th>\n",
       "      <td>62777</td>\n",
       "      <td>2015</td>\n",
       "      <td>39781</td>\n",
       "      <td>National City</td>\n",
       "      <td>CA</td>\n",
       "      <td>Mercedes-Benz</td>\n",
       "      <td>S-ClassS550</td>\n",
       "    </tr>\n",
       "    <tr>\n",
       "      <th>19999</th>\n",
       "      <td>12998</td>\n",
       "      <td>2016</td>\n",
       "      <td>47050</td>\n",
       "      <td>Richmond</td>\n",
       "      <td>VA</td>\n",
       "      <td>Hyundai</td>\n",
       "      <td>Sonata2.4L</td>\n",
       "    </tr>\n",
       "  </tbody>\n",
       "</table>\n",
       "<p>20000 rows × 7 columns</p>\n",
       "</div>"
      ],
      "text/plain": [
       "       Price  Year  Mileage           City State           Make          Model\n",
       "0      33998  2015    22211    Westborough    MA           Jeep          Grand\n",
       "1      16995  2014    47481          Omaha    NE          Buick  EncoreLeather\n",
       "2      17477  2017    20495     Vero Beach    FL            Kia       OptimaLX\n",
       "3      11974  2011    72945         Corona    CA            BMW              3\n",
       "4      32856  2016     9900         Baxley    GA         Toyota      Tacoma2WD\n",
       "...      ...   ...      ...            ...   ...            ...            ...\n",
       "19995  27490  2017    11300    Winterville    NC          Dodge     ChargerR/T\n",
       "19996   9995  2008    52677     Charleston    SC         Toyota       Camry4dr\n",
       "19997  11200  2014    58741     Chesapeake    VA         Nissan      Altima2.5\n",
       "19998  62777  2015    39781  National City    CA  Mercedes-Benz    S-ClassS550\n",
       "19999  12998  2016    47050       Richmond    VA        Hyundai     Sonata2.4L\n",
       "\n",
       "[20000 rows x 7 columns]"
      ]
     },
     "execution_count": 22,
     "metadata": {},
     "output_type": "execute_result"
    }
   ],
   "source": [
    "file_df"
   ]
  },
  {
   "cell_type": "code",
   "execution_count": 23,
   "id": "1efcda63",
   "metadata": {},
   "outputs": [
    {
     "data": {
      "text/html": [
       "<div>\n",
       "<style scoped>\n",
       "    .dataframe tbody tr th:only-of-type {\n",
       "        vertical-align: middle;\n",
       "    }\n",
       "\n",
       "    .dataframe tbody tr th {\n",
       "        vertical-align: top;\n",
       "    }\n",
       "\n",
       "    .dataframe thead th {\n",
       "        text-align: right;\n",
       "    }\n",
       "</style>\n",
       "<table border=\"1\" class=\"dataframe\">\n",
       "  <thead>\n",
       "    <tr style=\"text-align: right;\">\n",
       "      <th></th>\n",
       "      <th>Price</th>\n",
       "      <th>Year</th>\n",
       "      <th>Mileage</th>\n",
       "    </tr>\n",
       "    <tr>\n",
       "      <th>Model</th>\n",
       "      <th></th>\n",
       "      <th></th>\n",
       "      <th></th>\n",
       "    </tr>\n",
       "  </thead>\n",
       "  <tbody>\n",
       "    <tr>\n",
       "      <th>XL-74dr</th>\n",
       "      <td>2500.00</td>\n",
       "      <td>2004.00</td>\n",
       "      <td>211021.00</td>\n",
       "    </tr>\n",
       "    <tr>\n",
       "      <th>Terraza4dr</th>\n",
       "      <td>2998.00</td>\n",
       "      <td>2005.00</td>\n",
       "      <td>219574.00</td>\n",
       "    </tr>\n",
       "    <tr>\n",
       "      <th>Pathfinder</th>\n",
       "      <td>4499.00</td>\n",
       "      <td>2004.00</td>\n",
       "      <td>223335.00</td>\n",
       "    </tr>\n",
       "    <tr>\n",
       "      <th>Avalanche1500</th>\n",
       "      <td>6593.75</td>\n",
       "      <td>2003.25</td>\n",
       "      <td>229878.25</td>\n",
       "    </tr>\n",
       "    <tr>\n",
       "      <th>Sprinter2500</th>\n",
       "      <td>10972.50</td>\n",
       "      <td>2007.00</td>\n",
       "      <td>244483.00</td>\n",
       "    </tr>\n",
       "  </tbody>\n",
       "</table>\n",
       "</div>"
      ],
      "text/plain": [
       "                  Price     Year    Mileage\n",
       "Model                                      \n",
       "XL-74dr         2500.00  2004.00  211021.00\n",
       "Terraza4dr      2998.00  2005.00  219574.00\n",
       "Pathfinder      4499.00  2004.00  223335.00\n",
       "Avalanche1500   6593.75  2003.25  229878.25\n",
       "Sprinter2500   10972.50  2007.00  244483.00"
      ]
     },
     "execution_count": 23,
     "metadata": {},
     "output_type": "execute_result"
    }
   ],
   "source": [
    "file_df.groupby(file_df['Model']).mean().sort_values(by = 'Mileage').tail()"
   ]
  },
  {
   "cell_type": "code",
   "execution_count": null,
   "id": "5f5971d6",
   "metadata": {},
   "outputs": [],
   "source": []
  },
  {
   "cell_type": "code",
   "execution_count": 24,
   "id": "e41cff3e",
   "metadata": {},
   "outputs": [
    {
     "data": {
      "text/plain": [
       "<function matplotlib.pyplot.show(close=None, block=None)>"
      ]
     },
     "execution_count": 24,
     "metadata": {},
     "output_type": "execute_result"
    },
    {
     "data": {
      "image/png": "[encoded data removed]",
      "text/plain": [
       "<Figure size 640x480 with 1 Axes>"
      ]
     },
     "metadata": {},
     "output_type": "display_data"
    }
   ],
   "source": [
    "## Models with the highest mileage\n",
    "objects = ('XL-74dr','Terraza4dr', 'Pathfinder', 'Avalanche1500', 'Sprinter2500')\n",
    "y_pos = np.arange(len(objects))\n",
    "performance = (211021, 219574, 223335, 229878.25, 244483)\n",
    "\n",
    "plt.barh(y_pos, performance, align='center', alpha=0.5)\n",
    "plt.yticks(y_pos, objects)\n",
    "plt.xlabel('Mileage')\n",
    "plt.title('Highest Mileage')\n",
    "\n",
    "plt.show"
   ]
  },
  {
   "cell_type": "code",
   "execution_count": 25,
   "id": "b8898344",
   "metadata": {},
   "outputs": [
    {
     "data": {
      "text/plain": [
       "21418.0702"
      ]
     },
     "execution_count": 25,
     "metadata": {},
     "output_type": "execute_result"
    }
   ],
   "source": [
    "# Average cost of a used vehicle\n",
    "np.mean(file_df.Price)"
   ]
  },
  {
   "cell_type": "code",
   "execution_count": 26,
   "id": "3081fd23",
   "metadata": {},
   "outputs": [
    {
     "data": {
      "text/plain": [
       "2014    3849\n",
       "2015    3709\n",
       "2016    3097\n",
       "2017    2098\n",
       "2013    1759\n",
       "Name: Year, dtype: int64"
      ]
     },
     "execution_count": 26,
     "metadata": {},
     "output_type": "execute_result"
    }
   ],
   "source": [
    "# Year with the most used cars sold\n",
    "pd.value_counts(file_df.Year).head()"
   ]
  },
  {
   "cell_type": "code",
   "execution_count": 27,
   "id": "29302b8b",
   "metadata": {},
   "outputs": [
    {
     "data": {
      "text/plain": [
       "<function matplotlib.pyplot.show(close=None, block=None)>"
      ]
     },
     "execution_count": 27,
     "metadata": {},
     "output_type": "execute_result"
    },
    {
     "data": {
      "image/png": "[encoded data removed]",
      "text/plain": [
       "<Figure size 640x480 with 1 Axes>"
      ]
     },
     "metadata": {},
     "output_type": "display_data"
    }
   ],
   "source": [
    "# Years with the most used cars sold\n",
    "objects = ('2013', '2014', '2015','2016','2017')\n",
    "y_pos = np.arange(len(objects))\n",
    "performance = (1759, 3849, 3709, 3097, 2098)\n",
    "\n",
    "plt.barh(y_pos, performance, align='center', alpha=0.5)\n",
    "plt.yticks(y_pos, objects)\n",
    "plt.xlabel('Cars Sold')\n",
    "plt.title('Top selling years for Used Cars')\n",
    "\n",
    "plt.show"
   ]
  },
  {
   "cell_type": "code",
   "execution_count": 108,
   "id": "92b2d0c6",
   "metadata": {},
   "outputs": [
    {
     "data": {
      "text/html": [
       "<div>\n",
       "<style scoped>\n",
       "    .dataframe tbody tr th:only-of-type {\n",
       "        vertical-align: middle;\n",
       "    }\n",
       "\n",
       "    .dataframe tbody tr th {\n",
       "        vertical-align: top;\n",
       "    }\n",
       "\n",
       "    .dataframe thead th {\n",
       "        text-align: right;\n",
       "    }\n",
       "</style>\n",
       "<table border=\"1\" class=\"dataframe\">\n",
       "  <thead>\n",
       "    <tr style=\"text-align: right;\">\n",
       "      <th></th>\n",
       "      <th>Price</th>\n",
       "      <th>Year</th>\n",
       "      <th>Mileage</th>\n",
       "      <th>City</th>\n",
       "      <th>State</th>\n",
       "      <th>Make</th>\n",
       "      <th>Model</th>\n",
       "    </tr>\n",
       "  </thead>\n",
       "  <tbody>\n",
       "    <tr>\n",
       "      <th>0</th>\n",
       "      <td>33998</td>\n",
       "      <td>2015</td>\n",
       "      <td>22211</td>\n",
       "      <td>Westborough</td>\n",
       "      <td>MA</td>\n",
       "      <td>Jeep</td>\n",
       "      <td>Grand</td>\n",
       "    </tr>\n",
       "    <tr>\n",
       "      <th>1</th>\n",
       "      <td>16995</td>\n",
       "      <td>2014</td>\n",
       "      <td>47481</td>\n",
       "      <td>Omaha</td>\n",
       "      <td>NE</td>\n",
       "      <td>Buick</td>\n",
       "      <td>EncoreLeather</td>\n",
       "    </tr>\n",
       "    <tr>\n",
       "      <th>2</th>\n",
       "      <td>17477</td>\n",
       "      <td>2017</td>\n",
       "      <td>20495</td>\n",
       "      <td>Vero Beach</td>\n",
       "      <td>FL</td>\n",
       "      <td>Kia</td>\n",
       "      <td>OptimaLX</td>\n",
       "    </tr>\n",
       "    <tr>\n",
       "      <th>3</th>\n",
       "      <td>11974</td>\n",
       "      <td>2011</td>\n",
       "      <td>72945</td>\n",
       "      <td>Corona</td>\n",
       "      <td>CA</td>\n",
       "      <td>BMW</td>\n",
       "      <td>3</td>\n",
       "    </tr>\n",
       "    <tr>\n",
       "      <th>4</th>\n",
       "      <td>32856</td>\n",
       "      <td>2016</td>\n",
       "      <td>9900</td>\n",
       "      <td>Baxley</td>\n",
       "      <td>GA</td>\n",
       "      <td>Toyota</td>\n",
       "      <td>Tacoma2WD</td>\n",
       "    </tr>\n",
       "  </tbody>\n",
       "</table>\n",
       "</div>"
      ],
      "text/plain": [
       "   Price  Year  Mileage         City State    Make          Model\n",
       "0  33998  2015    22211  Westborough    MA    Jeep          Grand\n",
       "1  16995  2014    47481        Omaha    NE   Buick  EncoreLeather\n",
       "2  17477  2017    20495   Vero Beach    FL     Kia       OptimaLX\n",
       "3  11974  2011    72945       Corona    CA     BMW              3\n",
       "4  32856  2016     9900       Baxley    GA  Toyota      Tacoma2WD"
      ]
     },
     "execution_count": 108,
     "metadata": {},
     "output_type": "execute_result"
    }
   ],
   "source": [
    "## What brand sells the most and what is there most popular model\n",
    "groupby_df = file_df.groupby([\"Model\",\"Make\"]).head(5)\n",
    "groupby_df.head(5)"
   ]
  },
  {
   "cell_type": "code",
   "execution_count": 109,
   "id": "ccd4e2a0",
   "metadata": {},
   "outputs": [
    {
     "data": {
      "image/png": "[encoded data removed]",
      "text/plain": [
       "<Figure size 640x480 with 1 Axes>"
      ]
     },
     "metadata": {},
     "output_type": "display_data"
    }
   ],
   "source": [
    "## What brand sells the most cars in which area of the country\n",
    "n_groups = 5\n",
    "means_brand = (5833, 4076, 3399, 3362, 2663)\n",
    "means_state = (22200, 18940, 16894, 9197, 9140)\n",
    "\n",
    "fig, ax = plt.subplots()\n",
    "index = np.arange(n_groups)\n",
    "bar_width = 0.35\n",
    "opacity = 0.8\n",
    "\n",
    "rects1 = plt.bar(index, means_brand, bar_width,\n",
    "alpha=opacity,\n",
    "color='b',\n",
    "label='Brand')\n",
    "\n",
    "rects2 = plt.bar(index + bar_width, means_state, bar_width,\n",
    "alpha=opacity,\n",
    "color='g',\n",
    "label='Cars Sold by State')\n",
    "\n",
    "plt.xlabel('States')\n",
    "plt.ylabel('Cars Sold')\n",
    "plt.title('Brands sold by state')\n",
    "plt.xticks(index + bar_width, ('TX', 'CA', 'FL', 'IL', 'GA'))\n",
    "plt.legend()\n",
    "\n",
    "plt.tight_layout()\n",
    "plt.show()"
   ]
  },
  {
   "cell_type": "code",
   "execution_count": 17,
   "id": "c3563900",
   "metadata": {},
   "outputs": [
    {
     "data": {
      "text/plain": [
       " TX    2144\n",
       " CA    1967\n",
       " FL    1755\n",
       " IL     929\n",
       " GA     905\n",
       " NC     890\n",
       " VA     888\n",
       " NY     690\n",
       " NJ     666\n",
       " PA     642\n",
       " WA     542\n",
       " CO     535\n",
       " OH     525\n",
       " AZ     501\n",
       " TN     471\n",
       " MA     418\n",
       " MD     403\n",
       " IN     402\n",
       " MO     359\n",
       " AL     329\n",
       " KY     307\n",
       " CT     262\n",
       " SC     255\n",
       " MN     248\n",
       " WI     247\n",
       " MI     245\n",
       " OK     238\n",
       " OR     228\n",
       " UT     220\n",
       " LA     205\n",
       " KS     179\n",
       " AR     161\n",
       " NV     149\n",
       " NH     136\n",
       " IA     130\n",
       " MS     124\n",
       " NE     108\n",
       " NM     103\n",
       " ID      72\n",
       " HI      69\n",
       " DE      57\n",
       " MT      49\n",
       " ME      48\n",
       " AK      45\n",
       " RI      34\n",
       " ND      33\n",
       " VT      26\n",
       " WV      24\n",
       " SD      21\n",
       " WY      15\n",
       " DC       1\n",
       "Name: State, dtype: int64"
      ]
     },
     "execution_count": 17,
     "metadata": {},
     "output_type": "execute_result"
    }
   ],
   "source": [
    "## What brand sells the most cars in which area of the country\n",
    "pd.value_counts(file_df.State).head(52)"
   ]
  },
  {
   "cell_type": "code",
   "execution_count": null,
   "id": "195b6672",
   "metadata": {},
   "outputs": [],
   "source": []
  }
 ],
 "metadata": {
  "kernelspec": {
   "display_name": "Python 3 (ipykernel)",
   "language": "python",
   "name": "python3"
  },
  "language_info": {
   "codemirror_mode": {
    "name": "ipython",
    "version": 3
   },
   "file_extension": ".py",
   "mimetype": "text/x-python",
   "name": "python",
   "nbconvert_exporter": "python",
   "pygments_lexer": "ipython3",
   "version": "3.9.7"
  }
 },
 "nbformat": 4,
 "nbformat_minor": 5
}
